{
 "cells": [
  {
   "cell_type": "code",
   "execution_count": 1,
   "metadata": {},
   "outputs": [
    {
     "name": "stdout",
     "output_type": "stream",
     "text": [
      "           _id  totalnum\n",
      "0        trump   4217208\n",
      "1     covid-19   2504436\n",
      "2        covid   2117287\n",
      "3           us   2101876\n",
      "4        china   1954940\n",
      "5    americans   1416407\n",
      "6  coronavirus   1157475\n",
      "7           uk   1061707\n",
      "8        biden    984316\n",
      "9          cdc    897790\n"
     ]
    }
   ],
   "source": [
    "import os\n",
    "import pandas as pd\n",
    "os.chdir('D:/Summary_Hashtag_files/Summary_NER_Weekly')\n",
    "file = 'D:/Summary_Hashtag_files/Summary_NER_Weekly/distribution.csv'\n",
    "csvFile = pd.read_csv(file,encoding='iso-8859-1')\n",
    "print(csvFile.head(10))\n",
    "list_Hashtag = csvFile.totalnum.tolist()"
   ]
  },
  {
   "cell_type": "code",
   "execution_count": 2,
   "metadata": {},
   "outputs": [
    {
     "name": "stdout",
     "output_type": "stream",
     "text": [
      "1\n",
      "2228224\n",
      "2\n",
      "434501\n",
      "3\n",
      "188044\n",
      "4\n",
      "106712\n",
      "5\n",
      "69321\n",
      "6\n",
      "49280\n",
      "7\n",
      "36454\n",
      "8\n",
      "28662\n",
      "9\n",
      "23248\n",
      "10\n",
      "19062\n",
      "11\n",
      "15957\n",
      "12\n",
      "13543\n",
      "13\n",
      "11926\n",
      "14\n",
      "10654\n",
      "15\n",
      "9156\n",
      "16\n",
      "8169\n",
      "17\n",
      "7291\n",
      "18\n",
      "6504\n",
      "19\n",
      "6002\n",
      "20\n",
      "5617\n",
      "21\n",
      "5077\n",
      "22\n",
      "4573\n",
      "23\n",
      "4256\n",
      "24\n",
      "3910\n",
      "25\n",
      "3691\n",
      "26\n",
      "3443\n",
      "27\n",
      "3373\n",
      "28\n",
      "3012\n",
      "29\n",
      "2796\n",
      "30\n",
      "2709\n",
      "31\n",
      "2552\n",
      "32\n",
      "2436\n",
      "33\n",
      "2206\n",
      "34\n",
      "2238\n",
      "35\n",
      "2058\n",
      "36\n",
      "1941\n",
      "37\n",
      "1868\n",
      "38\n",
      "1827\n",
      "39\n",
      "1720\n",
      "40\n",
      "1616\n",
      "41\n",
      "1533\n",
      "42\n",
      "1447\n",
      "43\n",
      "1451\n",
      "44\n",
      "1421\n",
      "45\n",
      "1288\n",
      "46\n",
      "1238\n",
      "47\n",
      "1236\n",
      "48\n",
      "1169\n",
      "49\n",
      "1141\n",
      "50\n",
      "1094\n",
      "51\n",
      "1052\n",
      "52\n",
      "1040\n",
      "53\n",
      "971\n",
      "54\n",
      "973\n",
      "55\n",
      "921\n",
      "56\n",
      "845\n",
      "57\n",
      "850\n",
      "58\n",
      "831\n",
      "59\n",
      "831\n",
      "60\n",
      "811\n",
      "61\n",
      "817\n",
      "62\n",
      "732\n",
      "63\n",
      "668\n",
      "64\n",
      "699\n",
      "65\n",
      "738\n",
      "66\n",
      "669\n",
      "67\n",
      "624\n",
      "68\n",
      "672\n",
      "69\n",
      "638\n",
      "70\n",
      "654\n",
      "71\n",
      "617\n",
      "72\n",
      "581\n",
      "73\n",
      "555\n",
      "74\n",
      "570\n",
      "75\n",
      "574\n",
      "76\n",
      "545\n",
      "77\n",
      "511\n",
      "78\n",
      "503\n",
      "79\n",
      "505\n",
      "80\n",
      "490\n",
      "81\n",
      "465\n",
      "82\n",
      "463\n",
      "83\n",
      "482\n",
      "84\n",
      "438\n",
      "85\n",
      "418\n",
      "86\n",
      "417\n",
      "87\n",
      "415\n",
      "88\n",
      "425\n",
      "89\n",
      "399\n",
      "90\n",
      "372\n",
      "91\n",
      "347\n",
      "92\n",
      "378\n",
      "93\n",
      "353\n",
      "94\n",
      "348\n",
      "95\n",
      "360\n",
      "96\n",
      "357\n",
      "97\n",
      "353\n",
      "98\n",
      "315\n",
      "99\n",
      "331\n",
      "100\n",
      "349\n",
      "101\n",
      "305\n",
      "102\n",
      "303\n",
      "103\n",
      "317\n",
      "104\n",
      "302\n",
      "105\n"
     ]
    },
    {
     "ename": "KeyboardInterrupt",
     "evalue": "",
     "output_type": "error",
     "traceback": [
      "\u001b[1;31m---------------------------------------------------------------------------\u001b[0m",
      "\u001b[1;31mKeyboardInterrupt\u001b[0m                         Traceback (most recent call last)",
      "\u001b[1;32m<ipython-input-2-ce9a56726a17>\u001b[0m in \u001b[0;36m<module>\u001b[1;34m\u001b[0m\n\u001b[0;32m      3\u001b[0m \u001b[1;32mfor\u001b[0m \u001b[0mi\u001b[0m \u001b[1;32min\u001b[0m \u001b[0mrange\u001b[0m\u001b[1;33m(\u001b[0m\u001b[1;36m1\u001b[0m\u001b[1;33m,\u001b[0m\u001b[1;36m10000\u001b[0m\u001b[1;33m)\u001b[0m\u001b[1;33m:\u001b[0m\u001b[1;33m\u001b[0m\u001b[1;33m\u001b[0m\u001b[0m\n\u001b[0;32m      4\u001b[0m     \u001b[0mprint\u001b[0m\u001b[1;33m(\u001b[0m\u001b[0mi\u001b[0m\u001b[1;33m)\u001b[0m\u001b[1;33m\u001b[0m\u001b[1;33m\u001b[0m\u001b[0m\n\u001b[1;32m----> 5\u001b[1;33m     \u001b[0mnum\u001b[0m \u001b[1;33m=\u001b[0m \u001b[0mnp\u001b[0m\u001b[1;33m.\u001b[0m\u001b[0msum\u001b[0m\u001b[1;33m(\u001b[0m\u001b[0mlist\u001b[0m\u001b[1;33m(\u001b[0m\u001b[0mmap\u001b[0m\u001b[1;33m(\u001b[0m\u001b[1;32mlambda\u001b[0m \u001b[0mx\u001b[0m\u001b[1;33m:\u001b[0m \u001b[0mx\u001b[0m\u001b[1;33m==\u001b[0m\u001b[0mi\u001b[0m \u001b[1;33m,\u001b[0m \u001b[0mlist_Hashtag\u001b[0m\u001b[1;33m)\u001b[0m\u001b[1;33m)\u001b[0m\u001b[1;33m)\u001b[0m\u001b[1;33m\u001b[0m\u001b[1;33m\u001b[0m\u001b[0m\n\u001b[0m\u001b[0;32m      6\u001b[0m     \u001b[0mprint\u001b[0m\u001b[1;33m(\u001b[0m\u001b[0mnum\u001b[0m\u001b[1;33m)\u001b[0m\u001b[1;33m\u001b[0m\u001b[1;33m\u001b[0m\u001b[0m\n\u001b[0;32m      7\u001b[0m     \u001b[0mNumber\u001b[0m\u001b[1;33m.\u001b[0m\u001b[0mappend\u001b[0m\u001b[1;33m(\u001b[0m\u001b[0mnum\u001b[0m\u001b[1;33m)\u001b[0m\u001b[1;33m\u001b[0m\u001b[1;33m\u001b[0m\u001b[0m\n",
      "\u001b[1;32m<ipython-input-2-ce9a56726a17>\u001b[0m in \u001b[0;36m<lambda>\u001b[1;34m(x)\u001b[0m\n\u001b[0;32m      3\u001b[0m \u001b[1;32mfor\u001b[0m \u001b[0mi\u001b[0m \u001b[1;32min\u001b[0m \u001b[0mrange\u001b[0m\u001b[1;33m(\u001b[0m\u001b[1;36m1\u001b[0m\u001b[1;33m,\u001b[0m\u001b[1;36m10000\u001b[0m\u001b[1;33m)\u001b[0m\u001b[1;33m:\u001b[0m\u001b[1;33m\u001b[0m\u001b[1;33m\u001b[0m\u001b[0m\n\u001b[0;32m      4\u001b[0m     \u001b[0mprint\u001b[0m\u001b[1;33m(\u001b[0m\u001b[0mi\u001b[0m\u001b[1;33m)\u001b[0m\u001b[1;33m\u001b[0m\u001b[1;33m\u001b[0m\u001b[0m\n\u001b[1;32m----> 5\u001b[1;33m     \u001b[0mnum\u001b[0m \u001b[1;33m=\u001b[0m \u001b[0mnp\u001b[0m\u001b[1;33m.\u001b[0m\u001b[0msum\u001b[0m\u001b[1;33m(\u001b[0m\u001b[0mlist\u001b[0m\u001b[1;33m(\u001b[0m\u001b[0mmap\u001b[0m\u001b[1;33m(\u001b[0m\u001b[1;32mlambda\u001b[0m \u001b[0mx\u001b[0m\u001b[1;33m:\u001b[0m \u001b[0mx\u001b[0m\u001b[1;33m==\u001b[0m\u001b[0mi\u001b[0m \u001b[1;33m,\u001b[0m \u001b[0mlist_Hashtag\u001b[0m\u001b[1;33m)\u001b[0m\u001b[1;33m)\u001b[0m\u001b[1;33m)\u001b[0m\u001b[1;33m\u001b[0m\u001b[1;33m\u001b[0m\u001b[0m\n\u001b[0m\u001b[0;32m      6\u001b[0m     \u001b[0mprint\u001b[0m\u001b[1;33m(\u001b[0m\u001b[0mnum\u001b[0m\u001b[1;33m)\u001b[0m\u001b[1;33m\u001b[0m\u001b[1;33m\u001b[0m\u001b[0m\n\u001b[0;32m      7\u001b[0m     \u001b[0mNumber\u001b[0m\u001b[1;33m.\u001b[0m\u001b[0mappend\u001b[0m\u001b[1;33m(\u001b[0m\u001b[0mnum\u001b[0m\u001b[1;33m)\u001b[0m\u001b[1;33m\u001b[0m\u001b[1;33m\u001b[0m\u001b[0m\n",
      "\u001b[1;31mKeyboardInterrupt\u001b[0m: "
     ]
    }
   ],
   "source": [
    "import numpy as np\n",
    "Number = list()\n",
    "for i in range(1,10000):\n",
    "    print(i)\n",
    "    num = np.sum(list(map(lambda x: x==i , list_Hashtag)))\n",
    "    print(num)\n",
    "    Number.append(num)"
   ]
  },
  {
   "cell_type": "code",
   "execution_count": 4,
   "metadata": {},
   "outputs": [
    {
     "data": {
      "image/png": "[encoded data removed]",
      "text/plain": [
       "<Figure size 1296x864 with 1 Axes>"
      ]
     },
     "metadata": {
      "needs_background": "light"
     },
     "output_type": "display_data"
    }
   ],
   "source": [
    "import matplotlib.pyplot as plt\n",
    "import numpy as np\n",
    "plt.figure(figsize=(18,12))\n",
    "ax1=plt.subplot(111)\n",
    "X1 = np.linspace(1, 50, 50)\n",
    "plt.title(\"distribution\")\n",
    "ax1.set_ylabel('Number')\n",
    "ax1.plot(X1,Number[0:50])\n",
    "plt.savefig('C:\\\\Users\\\\huawei\\\\Desktop\\\\SNA的图\\\\第二问\\\\distribution.jpg')"
   ]
  },
  {
   "cell_type": "code",
   "execution_count": 5,
   "metadata": {},
   "outputs": [
    {
     "name": "stderr",
     "output_type": "stream",
     "text": [
      "<ipython-input-5-3d42d842557e>:6: RuntimeWarning: overflow encountered in power\n",
      "  return a*x**b+c\n"
     ]
    },
    {
     "name": "stdout",
     "output_type": "stream",
     "text": [
      "[ 2.22264585e+06 -2.30671266e+00  3.65808050e+03]\n"
     ]
    },
    {
     "data": {
      "image/png": "[encoded data removed]",
      "text/plain": [
       "<Figure size 432x288 with 1 Axes>"
      ]
     },
     "metadata": {
      "needs_background": "light"
     },
     "output_type": "display_data"
    }
   ],
   "source": [
    "import numpy as np\n",
    "import matplotlib.pyplot as plt\n",
    "from scipy.optimize import curve_fit\n",
    "\n",
    "def func(x, a ,b, c):\n",
    "    return a*x**b+c\n",
    "plt.plot(X1, Number[0:50], 'bo', label='data')\n",
    "popt, pcov = curve_fit(func, X1, Number[0:50],maxfev = 200000)\n",
    "print(popt)\n",
    "plt.plot(X1, func(X1, *popt), 'r-')\n",
    "plt.savefig('C:\\\\Users\\\\huawei\\\\Desktop\\\\SNA的图\\\\第二问\\\\curve_fit.jpg')"
   ]
  },
  {
   "cell_type": "code",
   "execution_count": 6,
   "metadata": {},
   "outputs": [
    {
     "data": {
      "image/png": "[encoded data removed]",
      "text/plain": [
       "<Figure size 432x288 with 1 Axes>"
      ]
     },
     "metadata": {
      "needs_background": "light"
     },
     "output_type": "display_data"
    }
   ],
   "source": [
    "plt.plot(np.log(X1),np.log(Number[0:50]))\n",
    "plt.savefig('C:\\\\Users\\\\huawei\\\\Desktop\\\\SNA的图\\\\第二问\\\\curve_fit_straght_line.jpg')"
   ]
  },
  {
   "cell_type": "code",
   "execution_count": null,
   "metadata": {},
   "outputs": [],
   "source": []
  }
 ],
 "metadata": {
  "kernelspec": {
   "display_name": "Python 3",
   "language": "python",
   "name": "python3"
  },
  "language_info": {
   "codemirror_mode": {
    "name": "ipython",
    "version": 3
   },
   "file_extension": ".py",
   "mimetype": "text/x-python",
   "name": "python",
   "nbconvert_exporter": "python",
   "pygments_lexer": "ipython3",
   "version": "3.8.5"
  }
 },
 "nbformat": 4,
 "nbformat_minor": 4
}
